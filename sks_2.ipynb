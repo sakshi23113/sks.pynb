{
  "nbformat": 4,
  "nbformat_minor": 0,
  "metadata": {
    "colab": {
      "provenance": []
    },
    "kernelspec": {
      "name": "python3",
      "display_name": "Python 3"
    },
    "language_info": {
      "name": "python"
    }
  },
  "cells": [
    {
      "cell_type": "markdown",
      "source": [
        "1- writ a code to reverse a string"
      ],
      "metadata": {
        "id": "xG5xPKsQqTpQ"
      }
    },
    {
      "cell_type": "code",
      "source": [
        "def reverse_string(s):\n",
        "    return s[::-1]\n"
      ],
      "metadata": {
        "id": "uYKybk3eqfQP"
      },
      "execution_count": null,
      "outputs": []
    },
    {
      "cell_type": "code",
      "source": [
        "string = \"radar\"\n",
        "reversed_string = reverse_string(string)\n",
        "print(\"Reversed string:\", reversed_string)"
      ],
      "metadata": {
        "colab": {
          "base_uri": "https://localhost:8080/"
        },
        "id": "RWKFkZVaSOEL",
        "outputId": "a4527d61-1207-4808-c04e-da334527e39a"
      },
      "execution_count": null,
      "outputs": [
        {
          "output_type": "stream",
          "name": "stdout",
          "text": [
            "Reversed string: AMRAHS IHSKAS\n"
          ]
        }
      ]
    },
    {
      "cell_type": "code",
      "source": [
        "Q2.write a code to count the number of vowels in a string"
      ],
      "metadata": {
        "id": "qThoZZa5WuOM"
      },
      "execution_count": null,
      "outputs": []
    },
    {
      "cell_type": "code",
      "source": [
        "\n",
        "string = \"HELLO WORLD\"\n",
        "def count_vowels(s):\n",
        "    vowels = \"AEIOUaeiou\"\n",
        "    count = 0\n",
        "    for char in s:\n",
        "        if char in vowels:\n",
        "            count += 1\n",
        "    return count\n",
        "vowel_count = count_vowels(string)\n",
        "print(\"Number of vowels:\", vowel_count)"
      ],
      "metadata": {
        "colab": {
          "base_uri": "https://localhost:8080/"
        },
        "id": "Jfeb4JS4W1vs",
        "outputId": "3b5f6232-f998-40d4-be6b-06d9f16b6649"
      },
      "execution_count": null,
      "outputs": [
        {
          "output_type": "stream",
          "name": "stdout",
          "text": [
            "Number of vowels: 3\n"
          ]
        }
      ]
    },
    {
      "cell_type": "code",
      "source": [
        "3.write a code to check if a given string is a palindrome or not."
      ],
      "metadata": {
        "id": "xoLXJUPfSO_N"
      },
      "execution_count": null,
      "outputs": []
    },
    {
      "cell_type": "code",
      "source": [
        "def is_palindrome(s):\n",
        "  #removes spaces and convert to lower spaces .\n",
        "   s = s.replace(\" \", \"\").lower()\n",
        "   #checks whether the string. is equal t o reverse.\n",
        "   return s == s[::-1]\n",
        "   #for ex\n",
        "\n",
        "string = \"RADAR\"\n",
        "if is_palindrome(string):\n",
        "    print(f'\"{string}\" is a palindrome.')\n",
        "else:\n",
        "    print(f'\"{string}\" is not a palindrome.')\n",
        "\n"
      ],
      "metadata": {
        "colab": {
          "base_uri": "https://localhost:8080/"
        },
        "id": "OB5nPe1Rcdav",
        "outputId": "e4c5ee1f-d344-45c6-80c4-1a3025be65bb"
      },
      "execution_count": null,
      "outputs": [
        {
          "output_type": "stream",
          "name": "stdout",
          "text": [
            "\"RADAR\" is a palindrome.\n"
          ]
        }
      ]
    },
    {
      "cell_type": "code",
      "source": [
        "write a code to check if two given string are anograms of each other."
      ],
      "metadata": {
        "id": "G2DpUl7NelWK"
      },
      "execution_count": null,
      "outputs": []
    },
    {
      "cell_type": "code",
      "source": [
        "def are_anagrams(str1, str2):\n",
        "    # Remove spaces and convert to lowercase for case-insensitive comparison\n",
        "    str1 = str1.replace(\" \", \"\").lower()\n",
        "    str2 = str2.replace(\" \", \"\").lower()\n",
        "\n",
        "    # Check if sorted characters of both strings are the same\n",
        "    return sorted(str1) == sorted(str2)\n",
        "\n",
        "# Example usage:\n",
        "string1 = \"ELBOW\"\n",
        "string2 = \"below\"\n",
        "if are_anagrams(string1, string2):\n",
        "    print(f'\"{string1}\" and \"{string2}\" are anagrams.')\n",
        "else:\n",
        "    print(f'\"{string1}\" and \"{string2}\" are not anagrams.')\n"
      ],
      "metadata": {
        "colab": {
          "base_uri": "https://localhost:8080/"
        },
        "id": "kGOe0f83iLyo",
        "outputId": "0b55f372-5c4b-4985-d806-0925f2ff2194"
      },
      "execution_count": null,
      "outputs": [
        {
          "output_type": "stream",
          "name": "stdout",
          "text": [
            "\"ELBOW\" and \"below\" are anagrams.\n"
          ]
        }
      ]
    },
    {
      "cell_type": "markdown",
      "source": [
        "write a code to find all occurrences of a given substring within onother string.\n",
        "\n"
      ],
      "metadata": {
        "id": "y1HTJfMdnyvs"
      }
    },
    {
      "cell_type": "code",
      "source": [
        "def find_substring_occurrences(main_str, sub_str):\n",
        "    occurrences = []\n",
        "    start = 0\n",
        "    while start < len(main_str):\n",
        "        # Find the next occurrence of the substring\n",
        "        pos = main_str.find(sub_str, start)\n",
        "\n",
        "        # If the substring is found, store the index\n",
        "        if pos != -1:\n",
        "            occurrences.append(pos)\n",
        "            # Move start to the next character after the found occurrence\n",
        "            start = pos + 1\n",
        "        else:\n",
        "            break\n",
        "    return occurrences\n",
        "\n",
        "# Example usage:\n",
        "main_string = \"JAJANTARAMMANTRAMJAJANTRAMAMANTRA\"\n",
        "substring = \"JAJA\"\n",
        "occurrences = find_substring_occurrences(main_string, substring)\n",
        "print(f'Occurrences of \"{substring}\" in \"{main_string}\": {occurrences}')"
      ],
      "metadata": {
        "colab": {
          "base_uri": "https://localhost:8080/"
        },
        "id": "IwCFU8TLn1uW",
        "outputId": "e755173d-545a-4d59-b259-b09459481848"
      },
      "execution_count": null,
      "outputs": [
        {
          "output_type": "stream",
          "name": "stdout",
          "text": [
            "Occurrences of \"JAJA\" in \"JAJANTARAMMANTRAMJAJANTRAMAMANTRA\": [0, 17]\n"
          ]
        }
      ]
    },
    {
      "cell_type": "markdown",
      "source": [
        "Write a code to perform basic string compression using the count of repeated charact"
      ],
      "metadata": {
        "id": "0LnLDA8dvclh"
      }
    },
    {
      "cell_type": "code",
      "source": [
        "def has_unique_chars(s):\n",
        "    # Use a set to track characters seen so far\n",
        "    char_set = set()\n",
        "\n",
        "    for char in s:\n",
        "        if char in char_set:\n",
        "            return False  # Character is repeated\n",
        "        char_set.add(char)\n",
        "\n",
        "    return True  # All characters are unique\n",
        "\n",
        "input_string = \"ABCDEFGHIJKL\"\n",
        "if has_unique_chars(input_string):\n",
        "    print(f'\"{input_string}\" has all unique characters.')\n",
        "else:\n",
        "    print(f'\"{input_string}\" does not have all unique characters.')"
      ],
      "metadata": {
        "id": "-9-rPukPod_F",
        "colab": {
          "base_uri": "https://localhost:8080/"
        },
        "outputId": "a305919f-bf4e-41c4-edc9-51ccee7e13a8"
      },
      "execution_count": null,
      "outputs": [
        {
          "output_type": "stream",
          "name": "stdout",
          "text": [
            "\"ABCDEFGHIJKL\" has all unique characters.\n"
          ]
        }
      ]
    },
    {
      "cell_type": "code",
      "source": [
        "Q9.Write a code to count the number of words in a string.\n"
      ],
      "metadata": {
        "id": "AQlKc91-1EC4"
      },
      "execution_count": null,
      "outputs": []
    },
    {
      "cell_type": "code",
      "source": [
        "def count_words(s):\n",
        "    # Split the string by whitespace to get a list of words\n",
        "    words = s.split()\n",
        "    return len(words)\n",
        "\n",
        "# Example usage:\n",
        "input_string = \"Hello, Today is a beautiful day ,tommorrow i am going to usa\"\n",
        "word_count = count_words(input_string)\n",
        "print(f'Number of words: {word_count}')"
      ],
      "metadata": {
        "colab": {
          "base_uri": "https://localhost:8080/"
        },
        "id": "Q1YI302Q4bBb",
        "outputId": "aed80a32-3c86-4680-8ab4-a2a19af0bb89"
      },
      "execution_count": null,
      "outputs": [
        {
          "output_type": "stream",
          "name": "stdout",
          "text": [
            "Number of words: 12\n"
          ]
        }
      ]
    },
    {
      "cell_type": "code",
      "source": [
        "Write a code to convert a given string to uppercase or lowercase."
      ],
      "metadata": {
        "id": "qw08tnNN44y1"
      },
      "execution_count": null,
      "outputs": []
    },
    {
      "cell_type": "code",
      "source": [
        "def convert_case(s, to_upper=True):\n",
        "    if to_upper:\n",
        "        return s.upper()  # Convert to uppercase\n",
        "    else:\n",
        "        return s.lower()  # Convert to lowercase\n",
        "\n",
        "# Example usage:\n",
        "input_string = \"Pw Skills!\"\n",
        "\n",
        "# Convert to uppercase\n",
        "uppercase_string = convert_case(input_string, to_upper=True)\n",
        "print(f'Uppercase: {uppercase_string}')\n",
        "\n",
        "# Convert to lowercase\n",
        "lowercase_string = convert_case(input_string, to_upper=False)\n",
        "print(f'Lowercase: {lowercase_string}')\n",
        "\n",
        "\n"
      ],
      "metadata": {
        "colab": {
          "base_uri": "https://localhost:8080/"
        },
        "id": "fVtbKkvtASRW",
        "outputId": "d08f7764-8c21-4d05-fb57-f294cc3c7ee3"
      },
      "execution_count": null,
      "outputs": [
        {
          "output_type": "stream",
          "name": "stdout",
          "text": [
            "Uppercase: PW SKILLS!\n",
            "Lowercase: pw skills!\n"
          ]
        }
      ]
    },
    {
      "cell_type": "markdown",
      "source": [
        "[Q9.Write a code to count the number of words in a string"
      ],
      "metadata": {
        "id": "laUV6UU8mHae"
      }
    },
    {
      "cell_type": "code",
      "source": [
        "def count_words(text):\n",
        "  \"\"\"Counts the number of words in a string.\n",
        "\n",
        "  Args:\n",
        "    text: The string to count words in.\n",
        "\n",
        "  Returns:\n",
        "    The number of words in the string.\n",
        "  \"\"\"\n",
        "  return len(text.split())\n",
        "\n",
        "# Example usage:\n",
        "string = \"This is a good platform for dat analytics\"\n",
        "word_count = count_words(string)\n",
        "print(f\"The string has {word_count} words.\")"
      ],
      "metadata": {
        "colab": {
          "base_uri": "https://localhost:8080/"
        },
        "id": "Trs1I6lTSiyV",
        "outputId": "406a7bf4-2299-42ee-d422-2024e2ef9a33"
      },
      "execution_count": null,
      "outputs": [
        {
          "output_type": "stream",
          "name": "stdout",
          "text": [
            "The string has 8 words.\n"
          ]
        }
      ]
    },
    {
      "cell_type": "markdown",
      "source": [
        "Q10.Write a code to concatenate two string without using the + operator.\n"
      ],
      "metadata": {
        "id": "jrB9j8pzmW0s"
      }
    },
    {
      "cell_type": "code",
      "source": [
        "def concatenate_strings(str1,str2):\n",
        "   # Use the join method to concatenate the two strings\n",
        "          return ''.join([str1, str2])\n",
        "\n",
        "#example usage\n",
        "string1 = \"helo\"\n",
        "string2 =\"Duniya\"\n",
        "result = concatenate_strings(string1,string2)\n",
        "print(result)\n",
        "\n",
        "\n",
        "\n"
      ],
      "metadata": {
        "colab": {
          "base_uri": "https://localhost:8080/"
        },
        "id": "g_VOJlHOms1b",
        "outputId": "7e4164d0-5c5b-44bf-f81c-8952cfceabe7"
      },
      "execution_count": null,
      "outputs": [
        {
          "output_type": "stream",
          "name": "stdout",
          "text": [
            "heloDuniya\n"
          ]
        }
      ]
    },
    {
      "cell_type": "markdown",
      "source": [],
      "metadata": {
        "id": "2KdBAkiOmBd0"
      }
    },
    {
      "cell_type": "code",
      "source": [
        " 11-Write a code to remove all occurrences of a specific element from a list\n"
      ],
      "metadata": {
        "id": "zrHLeiLEzJ-B"
      },
      "execution_count": null,
      "outputs": []
    },
    {
      "cell_type": "code",
      "source": [
        "def remove_element(list,element):\n",
        "# Use list as element\n",
        "    while element in list:\n",
        "        list.remove(element)\n",
        "        return list\n",
        "        list = [1,2,2,3,4,5]\n",
        "        element=2\n",
        "        new_list=list\n",
        "        new_list = remove_element(list,element)\n",
        "        printf(new_list)\n",
        "\n",
        "\n"
      ],
      "metadata": {
        "id": "zcMGQw4Ls6q1"
      },
      "execution_count": null,
      "outputs": []
    },
    {
      "cell_type": "code",
      "source": [
        "12-Implement a code to find the second largest number in a givenlist of integers."
      ],
      "metadata": {
        "id": "DNEENaSBuCaX"
      },
      "execution_count": null,
      "outputs": []
    },
    {
      "cell_type": "code",
      "source": [
        "def find_second_largest(lst):\n",
        "    if len(lst) < 2:\n",
        "        raise ValueError(\"List must contain at least two elements\")\n",
        "\n",
        "    first = second = float('-inf')\n",
        "\n",
        "    for num in lst:\n",
        "        if num > first:\n",
        "            second = first\n",
        "            first = num\n",
        "        elif first > num > second:\n",
        "            second = num\n",
        "\n",
        "    if second == float('-inf'):\n",
        "        raise ValueError(\"There is no second largest element\")\n",
        "\n",
        "    return second\n",
        "\n",
        "# Example usage:\n",
        "my_list = [10, 20, 4, 45, 99, 99, 45]\n",
        "second_largest = find_second_largest(my_list)\n",
        "print(f'Second largest number: {second_largest}')"
      ],
      "metadata": {
        "id": "ZWaOAInQ720X"
      },
      "execution_count": null,
      "outputs": []
    },
    {
      "cell_type": "markdown",
      "source": [
        "13-Create a code to count the occuurrences of each element in a list and return a dictionary with elements as keys and their counts as values.\n",
        "\n",
        "> Add blockquote\n",
        "\n"
      ],
      "metadata": {
        "id": "QQYh8JLr8Q-n"
      }
    },
    {
      "cell_type": "code",
      "source": [
        "def count_occurrences(lst):\n",
        "    # Create an empty dictionary to store counts\n",
        "    count_dict = {}\n",
        "\n",
        "    # Iterate through the list and count occurrences\n",
        "    for item in lst:\n",
        "        if item in count_dict:\n",
        "            count_dict[item] += 1\n",
        "        else:\n",
        "            count_dict[item] = 1\n",
        "\n",
        "    return count_dict\n",
        "\n",
        "# Example usage:\n",
        "my_list = [1, 2, 2, 3, 4, 4, 4, 5]\n",
        "occurrences = count_occurrences(my_list)\n",
        "print('Occurrences:', occurrences)\n",
        "\n"
      ],
      "metadata": {
        "colab": {
          "base_uri": "https://localhost:8080/"
        },
        "id": "AWCKBaNS8VL3",
        "outputId": "c2d9efcc-67d2-4809-a9c7-7a5795896cbd"
      },
      "execution_count": null,
      "outputs": [
        {
          "output_type": "stream",
          "name": "stdout",
          "text": [
            "Occurrences: {1: 1, 2: 2, 3: 1, 4: 3, 5: 1}\n"
          ]
        }
      ]
    },
    {
      "cell_type": "code",
      "source": [
        "Q14.Write a code to reverse a list in-place without using any built-in reverse function."
      ],
      "metadata": {
        "id": "Jg7aVk1D8mMt"
      },
      "execution_count": null,
      "outputs": []
    },
    {
      "cell_type": "code",
      "source": [
        "def reverse_list(lst):\n",
        "    start = 0\n",
        "    end = len(lst) - 1\n",
        "    while start < end:\n",
        "        # Swap elements at the left and right indices\n",
        "        lst[start], lst[end] = lst[end], lst[start]\n",
        "        # Move towards the center\n",
        "        start += 1\n",
        "        end -= 1\n",
        "\n",
        "# Example usage:\n",
        "my_list = [1, 2, 3, 4, 5]\n",
        "reverse_list(my_list)\n",
        "print(my_list)"
      ],
      "metadata": {
        "colab": {
          "base_uri": "https://localhost:8080/"
        },
        "id": "yjGBXvPO9QQX",
        "outputId": "75f22ec9-e4e7-4b0c-f85a-285f2ae509a6"
      },
      "execution_count": null,
      "outputs": [
        {
          "output_type": "stream",
          "name": "stdout",
          "text": [
            "[5, 4, 3, 2, 1]\n"
          ]
        }
      ]
    },
    {
      "cell_type": "markdown",
      "source": [
        "Q15.Implement a code to find and remove duplicate from a list while preserving the original oreder ofelements.\n"
      ],
      "metadata": {
        "id": "eMNwtd7X-l4j"
      }
    },
    {
      "cell_type": "code",
      "source": [
        "def remove_duplicates(lst):\n",
        "    unique = []  # List to store unique elements\n",
        "    for item in lst:\n",
        "        if item not in unique:\n",
        "            unique.append(item)  # Add item if it's not already in the unique list\n",
        "    return unique  # Return the unique list after the loop\n",
        "\n",
        "# Example usage:\n",
        "my_list = [1, 2, 2, 3, 4, 4, 5, 1]\n",
        "unique_list = remove_duplicates(my_list)\n",
        "print(unique_list)"
      ],
      "metadata": {
        "colab": {
          "base_uri": "https://localhost:8080/"
        },
        "id": "w3DjqUZ7_ngx",
        "outputId": "16c21fb8-8860-495a-d5fe-9909c1a57404"
      },
      "execution_count": null,
      "outputs": [
        {
          "output_type": "stream",
          "name": "stdout",
          "text": [
            "[1, 2, 3, 4, 5]\n"
          ]
        }
      ]
    },
    {
      "cell_type": "markdown",
      "source": [],
      "metadata": {
        "id": "-70GduGUA-9Y"
      }
    },
    {
      "cell_type": "code",
      "source": [
        "Q16.Create a code to check if a given list is sorted (either in ascending or decending order) or not."
      ],
      "metadata": {
        "id": "7-k-85vzAT8x"
      },
      "execution_count": null,
      "outputs": []
    },
    {
      "cell_type": "code",
      "source": [
        "def is_sorted(lst):\n",
        "\n",
        "    # Check if the list is sorted in ascending order\n",
        "    if lst == sorted(lst):\n",
        "        return True, \"Ascending\"\n",
        "    # Check if the list is sorted in descending order\n",
        "    elif lst == sorted(lst, reverse=True):\n",
        "        return True, \"Descending\"\n",
        "    else:\n",
        "        return False, \"Not sorted\"\n",
        "\n",
        "# Example usage:\n",
        "my_list1 = [9,8,7,6,5,4,3,2,1]\n",
        "my_list2 = [1,2,3,4,5,6,7,8,9]\n",
        "my_list3 = [1, 3, 2, 4]\n",
        "\n",
        "print(is_sorted(my_list1))  # Output: (True, \"Ascending\")\n",
        "print(is_sorted(my_list2))  # Output: (True, \"Descending\")\n",
        "print(is_sorted(my_list3))  # Output: (False, \"Not sorted\")\n",
        "\n",
        "\n"
      ],
      "metadata": {
        "colab": {
          "base_uri": "https://localhost:8080/"
        },
        "id": "zPLWY2RQBEpV",
        "outputId": "de343839-3945-4821-e3db-fd1b1590027d"
      },
      "execution_count": null,
      "outputs": [
        {
          "output_type": "stream",
          "name": "stdout",
          "text": [
            "(True, 'Descending')\n",
            "(True, 'Ascending')\n",
            "(False, 'Not sorted')\n"
          ]
        }
      ]
    },
    {
      "cell_type": "code",
      "source": [
        "Q17.Write a code to merge two sorted lists into a single sorted list."
      ],
      "metadata": {
        "id": "d-TIQdbUB6eN"
      },
      "execution_count": null,
      "outputs": []
    },
    {
      "cell_type": "code",
      "source": [
        "def merge_sorted_lists(list1, list2):\n",
        "  # Create an empty list to store the merged result\n",
        "  merged_list = []  # Initialize an empty list to hold the merged result\n",
        "    i, j = 0, 0  # Initialize pointers for both lists\n",
        "\n",
        "    # Loop until we reach the end of either list\n",
        "    while i < len(list1) and j < len(list2):\n",
        "        if list1[i] < list2[j]:  # Compare elements from both lists\n",
        "            merged_list.append(list1[i])  # Add the smaller element to the merged list\n",
        "            i += 1  # Move the pointer in list1\n",
        "        else:\n",
        "            merged_list.append(list2[j])  # Add the smaller element to the merged list\n",
        "            j += 1  # Move the pointer in list2\n",
        "\n",
        "    # Add any remaining elements from list1\n",
        "    while i < len(list1):\n",
        "        merged_list.append(list1[i])\n",
        "        i += 1\n",
        "\n",
        "    # Add any remaining elements from list2\n",
        "    while j < len(list2):\n",
        "        merged_list.append(list2[j])\n",
        "        j += 1\n",
        "\n",
        "    return merged_list  # Return the merged sorted list\n",
        "\n",
        "# Example usage:\n",
        "list1 = [1, 3, 5, 7]\n",
        "list2 = [2, 4, 6, 8]\n",
        "merged_list = merge_sorted_lists(list1, list2)\n",
        "print(merged_list)  # Output: [1, 2, 3, 4, 5, 6, 7, 8]\n"
      ],
      "metadata": {
        "colab": {
          "base_uri": "https://localhost:8080/",
          "height": 106
        },
        "id": "YMNTt_-pDKUU",
        "outputId": "123ac0be-a36c-432a-94bb-57907d086824"
      },
      "execution_count": null,
      "outputs": [
        {
          "output_type": "error",
          "ename": "IndentationError",
          "evalue": "unexpected indent (<ipython-input-20-9256e5e5aad6>, line 4)",
          "traceback": [
            "\u001b[0;36m  File \u001b[0;32m\"<ipython-input-20-9256e5e5aad6>\"\u001b[0;36m, line \u001b[0;32m4\u001b[0m\n\u001b[0;31m    i, j = 0, 0  # Initialize pointers for both lists\u001b[0m\n\u001b[0m    ^\u001b[0m\n\u001b[0;31mIndentationError\u001b[0m\u001b[0;31m:\u001b[0m unexpected indent\n"
          ]
        }
      ]
    },
    {
      "cell_type": "code",
      "source": [
        "Q18.Implement a code to find the intersection of two given list.\n"
      ],
      "metadata": {
        "id": "d-IoumtMDbVd"
      },
      "execution_count": null,
      "outputs": []
    },
    {
      "cell_type": "code",
      "source": [
        "def intersect_lists(list1, list2):\n",
        "    # Convert both lists to sets\n",
        "    set1 = set(list1)\n",
        "    set2 = set(list2)\n",
        "\n",
        "    # Find the intersection of both sets\n",
        "    intersection = set1 & set2\n",
        "\n",
        "    # Convert the result back to a list (optional, depending on the desired output)\n",
        "    return list(intersection)\n",
        "\n",
        "# Example usage\n",
        "list1 = [1, 2, 3, 4, 5,8]\n",
        "list2 = [3, 4, 5, 6, 7,8]\n",
        "intersection = intersect_lists(list1, list2)\n",
        "print(intersection)\n",
        "\n",
        "\n",
        "\n",
        "\n"
      ],
      "metadata": {
        "colab": {
          "base_uri": "https://localhost:8080/"
        },
        "id": "0Mex-sypHkuc",
        "outputId": "66f7cef4-38f4-474a-c622-2d5d201d79f2"
      },
      "execution_count": null,
      "outputs": [
        {
          "output_type": "stream",
          "name": "stdout",
          "text": [
            "[8, 3, 4, 5]\n"
          ]
        }
      ]
    },
    {
      "cell_type": "code",
      "source": [
        "19.create a code to find the union of two lists without duplicates.\n"
      ],
      "metadata": {
        "id": "0WayTGtlIOqU"
      },
      "execution_count": null,
      "outputs": []
    },
    {
      "cell_type": "code",
      "source": [
        "def union_of_lists(list1, list2):\n",
        "    # Use a set to automatically handle duplicates\n",
        "    union_set = set(list1) | set(list2)\n",
        "\n",
        "    # Convert the set back to a list\n",
        "    union_list = list(union_set)\n",
        "\n",
        "    return union_list\n",
        "\n",
        "# Example usage:\n",
        "list1 = [1, 2, 3, 4, 5]\n",
        "list2 = [4, 5, 6, 7, 8]\n",
        "result = union_of_lists(list1, list2)\n",
        "print(result)"
      ],
      "metadata": {
        "colab": {
          "base_uri": "https://localhost:8080/"
        },
        "id": "mCSB4g2BLd7a",
        "outputId": "557f0d5d-e6c6-4af4-b930-9212e08fbd54"
      },
      "execution_count": null,
      "outputs": [
        {
          "output_type": "stream",
          "name": "stdout",
          "text": [
            "[1, 2, 3, 4, 5, 6, 7, 8]\n"
          ]
        }
      ]
    },
    {
      "cell_type": "code",
      "source": [
        "20-write a code to shuffle a given list randomly without using any built-in shuffle function."
      ],
      "metadata": {
        "id": "IMLODCGzLfFg"
      },
      "execution_count": null,
      "outputs": []
    },
    {
      "cell_type": "code",
      "source": [
        "import random\n",
        "\n",
        "def shuffle_list(lst):\n",
        "    # Traverse the list from the last element to the second element\n",
        "    for i in range(len(lst) - 1, 0, -1):\n",
        "        # Generate a random index from 0 to i\n",
        "        j = random.randint(0, i)\n",
        "        # Swap the elements at indices i and j\n",
        "        lst[i], lst[j] = lst[j], lst[i]\n",
        "\n",
        "# Example usage\n",
        "my_list = [1, 2, 3, 4, 5]\n",
        "shuffle_list(my_list)\n",
        "print(my_list)  # Output will be a randomly shuffled list\n"
      ],
      "metadata": {
        "id": "RYj7Y4ByX-OQ"
      },
      "execution_count": null,
      "outputs": []
    },
    {
      "cell_type": "code",
      "source": [
        "list(map(lambda x:x**2,[1,2,3,4,5])\n"
      ],
      "metadata": {
        "id": "ferbVFnVYguk"
      },
      "execution_count": null,
      "outputs": []
    },
    {
      "cell_type": "code",
      "source": [
        "Q21.Write a code that takes two tuples as input and returns anew tuples contaning elements that are common to both input tuples."
      ],
      "metadata": {
        "id": "xubrDgrRavol"
      },
      "execution_count": null,
      "outputs": []
    },
    {
      "cell_type": "code",
      "source": [
        "def intersect_tuples(tuple1, tuple2):\n",
        "    # Convert tuples to sets to find the intersection\n",
        "    set1 = set(tuple1)\n",
        "    set2 = set(tuple2)\n",
        "\n",
        "    # Find the intersection of both sets\n",
        "    intersection = set1 & set2\n",
        "\n",
        "    # Convert the result back to a tuple\n",
        "    return tuple(intersection)\n",
        "\n",
        "# Example usage\n",
        "tuple1 = (1, 2, 3, 4, 5)\n",
        "tuple2 = (4, 5, 6, 7, 8)\n",
        "common_elements = intersect_tuples(tuple1, tuple2)\n",
        "print(common_elements)  # Output: (4, 5)"
      ],
      "metadata": {
        "id": "PHo9srQP-QJn"
      },
      "execution_count": null,
      "outputs": []
    },
    {
      "cell_type": "markdown",
      "source": [
        "Q22.Create a code that prompts the user to enter two sets of integers separated by commas. then, print the intersection of these two sets."
      ],
      "metadata": {
        "id": "ijAXsEfq-lK8"
      }
    },
    {
      "cell_type": "code",
      "source": [
        "def get_set_from_input(prompt):\n",
        "    # Prompt user for input\n",
        "    input_str = input(prompt)\n",
        "    # Convert the input string to a list of integers\n",
        "    try:\n",
        "        # Convert the comma-separated string to a list of integers\n",
        "        integer_list = [int(x.strip()) for x in input_str.split(',')]\n",
        "        # Convert the list to a set\n",
        "        return set(integer_list)\n",
        "    except ValueError:\n",
        "        print(\"Invalid input. Please enter integers separated by commas.\")\n",
        "        return get_set_from_input(prompt)\n",
        "\n",
        "def main():\n",
        "    # Get two sets from user input\n",
        "    set1 = get_set_from_input(\"Enter the first set of integers separated by commas: \")\n",
        "    set2 = get_set_from_input(\"Enter the second set of integers separated by commas: \")\n",
        "\n",
        "    # Find the intersection of the two sets\n",
        "    intersection = set1 & set2\n",
        "\n",
        "    # Print the result\n",
        "    print(\"The intersection of the two sets is:\", intersection)\n",
        "\n",
        "if __name__ == \"__main__\":\n",
        "    main()\n"
      ],
      "metadata": {
        "id": "ars7m26H-pXe"
      },
      "execution_count": null,
      "outputs": []
    },
    {
      "cell_type": "markdown",
      "source": [
        "Q23.Write a code to contenatenate two tuples. the function should take two tuples as input and return a new tuple containing element from both input tuples."
      ],
      "metadata": {
        "id": "ehs0BisdBOt_"
      }
    },
    {
      "cell_type": "code",
      "source": [
        "def concatenate_tuples(tuple1, tuple2):\n",
        "    # Concatenate the two tuples\n",
        "    result_tuple = tuple1 + tuple2\n",
        "    return result_tuple\n",
        "\n",
        "# Example usage\n",
        "tuple1 = (1, 2, 3)\n",
        "tuple2 = (4, 5, 6)\n",
        "result = concatenate_tuples(tuple1, tuple2)\n",
        "print(result)  # Output: (1, 2, 3, 4, 5, 6)"
      ],
      "metadata": {
        "id": "GcjBHki1BXwb"
      },
      "execution_count": null,
      "outputs": []
    },
    {
      "cell_type": "markdown",
      "source": [
        "Q24.Develop a code that prompts the user to input two sets of strings. Then print the elements that are present in the first set but non in the second set."
      ],
      "metadata": {
        "id": "jQG5oRXBBhKR"
      }
    },
    {
      "cell_type": "code",
      "source": [
        "def get_set_from_input(prompt):\n",
        "    # Prompt user for input\n",
        "    input_str = input(prompt)\n",
        "    # Convert the input string to a set of strings\n",
        "    # Split by commas and strip any extra spaces\n",
        "    string_set = {s.strip() for s in input_str.split(',')}\n",
        "    return string_set\n",
        "\n",
        "def main():\n",
        "    # Get two sets of strings from user input\n",
        "    set1 = get_set_from_input(\"Enter the first set of strings separated by commas: \")\n",
        "    set2 = get_set_from_input(\"Enter the second set of strings separated by commas: \")\n",
        "\n",
        "    # Find elements in set1 but not in set2\n",
        "    difference = set1 - set2\n",
        "\n",
        "    # Print the result\n",
        "    print(\"Elements in the first set but not in the second set are:\", difference)\n",
        "\n",
        "if __name__ == \"__main__\":\n",
        "    main()\n"
      ],
      "metadata": {
        "id": "hhkmOPmLBlCu"
      },
      "execution_count": null,
      "outputs": []
    },
    {
      "cell_type": "markdown",
      "source": [
        "Create a code that takes a tuple and two integers as input. the function should return a new tuple containing elements from the original tuple within the specified range of indices"
      ],
      "metadata": {
        "id": "7JQPr_8rCFLo"
      }
    },
    {
      "cell_type": "code",
      "source": [
        "def slice_tuple(original_tuple, start_index, end_index):\n",
        "    # Validate indices\n",
        "    if not (0 <= start_index < len(original_tuple)) or not (0 <= end_index <= len(original_tuple)):\n",
        "        raise ValueError(\"Indices are out of range\")\n",
        "\n",
        "    # Return the sliced tuple\n",
        "    return original_tuple[start_index:end_index]\n",
        "\n",
        "# Example usage\n",
        "original_tuple = (10, 20, 30, 40, 50, 60, 70)\n",
        "start_index = 2\n",
        "end_index = 5\n",
        "result = slice_tuple(original_tuple, start_index, end_index)\n",
        "print(result)  # Output: (30, 40, 50)"
      ],
      "metadata": {
        "id": "qNASufCLCIYL"
      },
      "execution_count": null,
      "outputs": []
    },
    {
      "cell_type": "markdown",
      "source": [
        "Q26.write a code that prompts the user to input two sets of characters. Then ,print the union of these two sets."
      ],
      "metadata": {
        "id": "RBuSXXtPCLPx"
      }
    },
    {
      "cell_type": "code",
      "source": [
        "def get_set_from_input(prompt):\n",
        "    # Prompt user for input\n",
        "    input_str = input(prompt)\n",
        "    # Convert the input string to a set of characters\n",
        "    # Split by commas and strip any extra spaces\n",
        "    char_set = {c.strip() for c in input_str.split(',')}\n",
        "    return char_set\n",
        "\n",
        "def main():\n",
        "    # Get two sets of characters from user input\n",
        "    set1 = get_set_from_input(\"Enter the first set of characters separated by commas: \")\n",
        "    set2 = get_set_from_input(\"Enter the second set of characters separated by commas: \")\n",
        "\n",
        "    # Find the union of the two sets\n",
        "    union = set1 | set2\n",
        "\n",
        "    # Print the result\n",
        "    print(\"The union of the two sets is:\", union)\n",
        "\n",
        "if __name__ == \"__main__\":\n",
        "    main()"
      ],
      "metadata": {
        "id": "k5nTvlFvCSLS"
      },
      "execution_count": null,
      "outputs": []
    },
    {
      "cell_type": "markdown",
      "source": [
        "Q27.Develop a code that takes tuple of integers as input. The function should return the maximum and munimum values from the tiple using tuple unpacking."
      ],
      "metadata": {
        "id": "b0r53TvYCXvx"
      }
    },
    {
      "cell_type": "code",
      "source": [
        "def find_max_min(values):\n",
        "    # Ensure the input is not empty\n",
        "    if not values:\n",
        "        raise ValueError(\"The tuple is empty. Cannot determine max and min values.\")\n",
        "\n",
        "    # Find maximum and minimum values\n",
        "    max_value = max(values)\n",
        "    min_value = min(values)\n",
        "\n",
        "    # Return the maximum and minimum values as a tuple\n",
        "    return max_value, min_value\n",
        "\n",
        "# Example usage\n",
        "input_tuple = (10, 20, 30, 40, 50)\n",
        "max_value, min_value = find_max_min(input_tuple)\n",
        "print(\"Maximum value:\", max_value)  # Output: Maximum value: 50\n",
        "print(\"Minimum value:\", min_value)  # Output: Minimum value: 10"
      ],
      "metadata": {
        "id": "FLiPLv3BCY6V"
      },
      "execution_count": null,
      "outputs": []
    },
    {
      "cell_type": "markdown",
      "source": [
        "Q28.Create a code that defines two sets of integers. Then, print the union, intersection, and difference of these two sets.\n"
      ],
      "metadata": {
        "id": "4QqMGvs8CtEm"
      }
    },
    {
      "cell_type": "code",
      "source": [
        "def set_operations(set1, set2):\n",
        "    # Calculate union\n",
        "    union = set1 | set2\n",
        "\n",
        "    # Calculate intersection\n",
        "    intersection = set1 & set2\n",
        "\n",
        "    # Calculate difference (elements in set1 but not in set2)\n",
        "    difference = set1 - set2\n",
        "\n",
        "    # Print results\n",
        "    print(\"Union of the two sets:\", union)\n",
        "    print(\"Intersection of the two sets:\", intersection)\n",
        "    print(\"Difference of the two sets (set1 - set2):\", difference)\n",
        "\n",
        "# Define two sets of integers\n",
        "set1 = {1, 2, 3, 4, 5}\n",
        "set2 = {4, 5, 6, 7, 8}\n",
        "\n",
        "# Perform set operations\n",
        "set_operations(set1, set2)\n"
      ],
      "metadata": {
        "id": "bjDeZkodCvhe"
      },
      "execution_count": null,
      "outputs": []
    },
    {
      "cell_type": "markdown",
      "source": [
        "Q29.Write a code that takes a tuple and an element as input. The function should return the count of occurrences of the given element in the tuple."
      ],
      "metadata": {
        "id": "HBsDMKZeC2V1"
      }
    },
    {
      "cell_type": "code",
      "source": [
        "def count_occurrences(tpl, element):\n",
        "    return tpl.count(element)\n",
        "\n",
        "# Example usage:\n",
        "my_tuple = (1, 2, 3, 2, 2, 4)\n",
        "element_to_count = 2\n",
        "print(count_occurrences(my_tuple, element_to_count))"
      ],
      "metadata": {
        "id": "v-F3hbhYDDVH"
      },
      "execution_count": null,
      "outputs": []
    },
    {
      "cell_type": "markdown",
      "source": [],
      "metadata": {
        "id": "xsWbzGqkDMdP"
      }
    },
    {
      "cell_type": "markdown",
      "source": [
        "Q30.Develop a code that prompts the user to input two sets of strings.Then, print the symmetric difference of these two sets.\n",
        "\n"
      ],
      "metadata": {
        "id": "d9ioToXQDMlj"
      }
    },
    {
      "cell_type": "code",
      "source": [
        "def get_set_from_input(prompt):\n",
        "    user_input = input(prompt)\n",
        "    # Split the input by commas and strip whitespace\n",
        "    return set(map(str.strip, user_input.split(',')))\n",
        "\n",
        "# Get the sets from the user\n",
        "set1 = get_set_from_input(\"Enter the first set of strings (comma-separated): \")\n",
        "set2 = get_set_from_input(\"Enter the second set of strings (comma-separated): \")\n",
        "\n",
        "# Calculate the symmetric difference\n",
        "symmetric_diff = set1.symmetric_difference(set2)\n",
        "\n",
        "# Print the result\n",
        "print(\"Symmetric difference:\", symmetric_diff)"
      ],
      "metadata": {
        "id": "-pcw1M9TDSNb"
      },
      "execution_count": null,
      "outputs": []
    },
    {
      "cell_type": "markdown",
      "source": [
        "Q31.Write a code that takes a list of words as input and returns a dictionary where the keys are unique words and the frequencies of those words in the input list."
      ],
      "metadata": {
        "id": "QBe3UNp2DZBH"
      }
    },
    {
      "cell_type": "code",
      "source": [
        "def word_frequencies(words):\n",
        "    # Create an empty dictionary to store the frequencies\n",
        "    frequency_dict = {}\n",
        "\n",
        "    # Iterate over each word in the list\n",
        "    for word in words:\n",
        "        # If the word is already in the dictionary, increment its count\n",
        "        if word in frequency_dict:\n",
        "            frequency_dict[word] += 1\n",
        "        # If the word is not in the dictionary, add it with a count of 1\n",
        "        else:\n",
        "            frequency_dict[word] = 1\n",
        "\n",
        "    return frequency_dict\n",
        "\n",
        "# Example usage:\n",
        "words_list = input(\"Enter a list of words (comma-separated): \").split(',')\n",
        "words_list = [word.strip() for word in words_list]  # Strip any extra spaces\n",
        "frequencies = word_frequencies(words_list)\n",
        "print(\"Word frequencies:\", frequencies)\n"
      ],
      "metadata": {
        "colab": {
          "base_uri": "https://localhost:8080/"
        },
        "id": "Wk3pLitzDgLe",
        "outputId": "9b2cad85-fd97-4438-dcf4-4ec6190d9536"
      },
      "execution_count": null,
      "outputs": [
        {
          "output_type": "stream",
          "name": "stdout",
          "text": [
            "Enter a list of words (comma-separated): what is going on,in the party\n",
            "Word frequencies: {'what is going on': 1, 'in the party': 1}\n"
          ]
        }
      ]
    },
    {
      "cell_type": "code",
      "source": [
        "Q32.Write a code that takes two dictionaries as input and merges them into a single dictionary. if there are common keys, the values should be added together."
      ],
      "metadata": {
        "id": "ro2AO_WOFKbP"
      },
      "execution_count": null,
      "outputs": []
    },
    {
      "cell_type": "code",
      "source": [
        "def merge_dicts(dict1, dict2):\n",
        "    # Create a new dictionary to store the merged results\n",
        "    merged_dict = dict1.copy()  # Start with a copy of dict1\n",
        "\n",
        "    # Iterate over the second dictionary\n",
        "    for key, value in dict2.items():\n",
        "        if key in merged_dict:\n",
        "            # If the key exists in both dictionaries, add the values\n",
        "            merged_dict[key] += value\n",
        "        else:\n",
        "            # Otherwise, add the new key-value pair\n",
        "            merged_dict[key] = value\n",
        "\n",
        "    return merged_dict\n",
        "\n",
        "# Example usage\n",
        "dict1 = {'a': 1, 'b': 2, 'c': 3}\n",
        "dict2 = {'b': 3, 'c': 4, 'd': 5}\n",
        "\n",
        "result = merge_dicts(dict1, dict2)\n",
        "print(result)"
      ],
      "metadata": {
        "colab": {
          "base_uri": "https://localhost:8080/"
        },
        "id": "yd86YpCoF4i2",
        "outputId": "2459205c-c6c4-4075-fb31-dafe67b6d079"
      },
      "execution_count": null,
      "outputs": [
        {
          "output_type": "stream",
          "name": "stdout",
          "text": [
            "{'a': 1, 'b': 5, 'c': 7, 'd': 5}\n"
          ]
        }
      ]
    },
    {
      "cell_type": "code",
      "source": [
        "Q33. write a code to access a value in a nested dictionary. The function sholud take the dictonary and a list of keys as input, and return the corresponding value. i any of the keys do not exist in the dictionary, the function should return None.\n"
      ],
      "metadata": {
        "id": "rnGaG8lCF9Qq"
      },
      "execution_count": null,
      "outputs": []
    },
    {
      "cell_type": "code",
      "source": [
        "def get_nested_value(d, keys):\n",
        "    \"\"\"\n",
        "    Access a value in a nested dictionary using a list of keys.\n",
        "\n",
        "    :param d: The dictionary to search.\n",
        "    :param keys: A list of keys representing the path to the desired value.\n",
        "    :return: The value corresponding to the path, or None if any key is not found.\n",
        "    \"\"\"\n",
        "    current_value = d\n",
        "    for key in keys:\n",
        "        if isinstance(current_value, dict) and key in current_value:\n",
        "            current_value = current_value[key]\n",
        "        else:\n",
        "            return None\n",
        "    return current_value\n",
        "\n",
        "# Example usage\n",
        "nested_dict = {\n",
        "    'a': {\n",
        "        'b': {\n",
        "            'c': 10\n",
        "        }\n",
        "    }\n",
        "}\n",
        "keys = ['a', 'b', 'c']\n",
        "result = get_nested_value(nested_dict, keys)\n",
        "print(result)  # Output: 10\n",
        "\n",
        "# Testing a key that doesn't exist\n",
        "keys_invalid = ['a', 'b', 'd']\n",
        "result_invalid = get_nested_value(nested_dict, keys_invalid)\n",
        "print(result_invalid)  # Output: None\n"
      ],
      "metadata": {
        "colab": {
          "base_uri": "https://localhost:8080/"
        },
        "id": "gQAMJDRSGPfE",
        "outputId": "d8af2db7-6e82-47d9-b753-51cdf3d85778"
      },
      "execution_count": null,
      "outputs": [
        {
          "output_type": "stream",
          "name": "stdout",
          "text": [
            "10\n",
            "None\n"
          ]
        }
      ]
    },
    {
      "cell_type": "code",
      "source": [
        "Q34.Write a code that takes a dictionary as input and returns a sorted version of it based on the values. you can choose whether to sort in ascending or descending order."
      ],
      "metadata": {
        "id": "r-SlrDOSGYX3"
      },
      "execution_count": null,
      "outputs": []
    },
    {
      "cell_type": "code",
      "source": [
        "def sort_dict_by_values(d, descending=False):\n",
        "    \"\"\"\n",
        "    Sort a dictionary by its values.\n",
        "\n",
        "    :param d: The dictionary to be sorted.\n",
        "    :param descending: Whether to sort in descending order. Default is False (ascending).\n",
        "    :return: A new dictionary sorted by values.\n",
        "    \"\"\"\n",
        "    # Sort the dictionary items based on values and return a new dictionary\n",
        "    sorted_dict = dict(sorted(d.items(), key=lambda item: item[1], reverse=descending))\n",
        "    return sorted_dict\n",
        "\n",
        "# Example usage\n",
        "my_dict = {'a': 3, 'b': 1, 'c': 2}\n",
        "\n",
        "# Sorting in ascending order\n",
        "sorted_dict_asc = sort_dict_by_values(my_dict)\n",
        "print(\"Ascending:\", sorted_dict_asc)  # Output: {'b': 1, 'c': 2, 'a': 3}\n",
        "\n",
        "# Sorting in descending order\n",
        "sorted_dict_desc = sort_dict_by_values(my_dict, descending=True)\n",
        "print(\"Descending:\", sorted_dict_desc)  # Output: {'a': 3, 'c': 2, 'b': 1}"
      ],
      "metadata": {
        "colab": {
          "base_uri": "https://localhost:8080/"
        },
        "id": "sZYqkQyaGgiy",
        "outputId": "ec52abdb-f502-4ae5-c72c-db0271f2ab62"
      },
      "execution_count": null,
      "outputs": [
        {
          "output_type": "stream",
          "name": "stdout",
          "text": [
            "Ascending: {'b': 1, 'c': 2, 'a': 3}\n",
            "Descending: {'a': 3, 'c': 2, 'b': 1}\n"
          ]
        }
      ]
    },
    {
      "cell_type": "markdown",
      "source": [
        "Q35.Write a code that inverts a dictionary,swapping keys and values.ensure that the inverted dictionary correctly handle cases where multiple keys have the same values by sorting the keys as a list in the inverted dictionary"
      ],
      "metadata": {
        "id": "z2KEwtQRG7Tm"
      }
    },
    {
      "cell_type": "code",
      "source": [
        "def invert_dict(d):\n",
        "    \"\"\"\n",
        "    Invert a dictionary, swapping keys and values.\n",
        "    If multiple keys have the same value, store the keys in a sorted list.\n",
        "\n",
        "    :param d: The dictionary to be inverted.\n",
        "    :return: The inverted dictionary.\n",
        "    \"\"\"\n",
        "    inverted_dict = {}\n",
        "\n",
        "    for key, value in d.items():\n",
        "        if value in inverted_dict:\n",
        "            # If the value is already a key in the inverted dictionary\n",
        "            if isinstance(inverted_dict[value], list):\n",
        "                inverted_dict[value].append(key)\n",
        "                inverted_dict[value].sort()  # Ensure the list is sorted\n",
        "            else:\n",
        "                # Convert existing single key to a list and add the new key\n",
        "                inverted_dict[value] = sorted([inverted_dict[value], key])\n",
        "        else:\n",
        "            # If the value is not yet a key in the inverted dictionary\n",
        "            inverted_dict[value] = key\n",
        "\n",
        "    return inverted_dict\n",
        "\n",
        "# Example usage\n",
        "original_dict = {'a': 1, 'b': 2, 'c': 1, 'd': 3}\n",
        "\n",
        "inverted_dict = invert_dict(original_dict)\n",
        "print(inverted_dict)"
      ],
      "metadata": {
        "colab": {
          "base_uri": "https://localhost:8080/"
        },
        "id": "0LWao_9lG-DR",
        "outputId": "9eb44217-166b-4264-83e4-81eb8816ee9b"
      },
      "execution_count": null,
      "outputs": [
        {
          "output_type": "stream",
          "name": "stdout",
          "text": [
            "{1: ['a', 'c'], 2: 'b', 3: 'd'}\n"
          ]
        }
      ]
    },
    {
      "cell_type": "code",
      "source": [],
      "metadata": {
        "id": "HPqFz6DGHdS4"
      },
      "execution_count": null,
      "outputs": []
    }
  ]
}